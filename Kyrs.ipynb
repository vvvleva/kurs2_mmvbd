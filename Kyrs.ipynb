{
  "nbformat": 4,
  "nbformat_minor": 0,
  "metadata": {
    "colab": {
      "provenance": [],
      "mount_file_id": "1IErvWlXgOGLZgOOcaA2h1_ZoBtiP5UgI",
      "authorship_tag": "ABX9TyP5XMP7oTDNvFY5YUOCXWW/",
      "include_colab_link": true
    },
    "kernelspec": {
      "name": "python3",
      "display_name": "Python 3"
    },
    "language_info": {
      "name": "python"
    }
  },
  "cells": [
    {
      "cell_type": "markdown",
      "metadata": {
        "id": "view-in-github",
        "colab_type": "text"
      },
      "source": [
        "<a href=\"https://colab.research.google.com/github/vvvleva/kurs2_mmvbd/blob/main/Kyrs.ipynb\" target=\"_parent\"><img src=\"https://colab.research.google.com/assets/colab-badge.svg\" alt=\"Open In Colab\"/></a>"
      ]
    },
    {
      "cell_type": "code",
      "execution_count": 1,
      "metadata": {
        "colab": {
          "base_uri": "https://localhost:8080/"
        },
        "id": "rP27qFIuhbkN",
        "outputId": "37b95836-4595-475a-e58f-6aed77002d89"
      },
      "outputs": [
        {
          "output_type": "stream",
          "name": "stdout",
          "text": [
            "Collecting pyspark\n",
            "  Downloading pyspark-3.5.1.tar.gz (317.0 MB)\n",
            "\u001b[2K     \u001b[90m━━━━━━━━━━━━━━━━━━━━━━━━━━━━━━━━━━━━━━━━\u001b[0m \u001b[32m317.0/317.0 MB\u001b[0m \u001b[31m3.6 MB/s\u001b[0m eta \u001b[36m0:00:00\u001b[0m\n",
            "\u001b[?25h  Preparing metadata (setup.py) ... \u001b[?25l\u001b[?25hdone\n",
            "Requirement already satisfied: py4j==0.10.9.7 in /usr/local/lib/python3.10/dist-packages (from pyspark) (0.10.9.7)\n",
            "Building wheels for collected packages: pyspark\n",
            "  Building wheel for pyspark (setup.py) ... \u001b[?25l\u001b[?25hdone\n",
            "  Created wheel for pyspark: filename=pyspark-3.5.1-py2.py3-none-any.whl size=317488491 sha256=a1261955351499e720f1d216555d1bfa601a6e0cf8faa4256180eec3ba027601\n",
            "  Stored in directory: /root/.cache/pip/wheels/80/1d/60/2c256ed38dddce2fdd93be545214a63e02fbd8d74fb0b7f3a6\n",
            "Successfully built pyspark\n",
            "Installing collected packages: pyspark\n",
            "Successfully installed pyspark-3.5.1\n"
          ]
        }
      ],
      "source": [
        "! pip install pyspark\n",
        "from pyspark.sql import SparkSession\n",
        "from pyspark.ml import Pipeline\n",
        "from pyspark.ml.feature import StringIndexer # Выполнение энкодинга\n",
        "from pyspark.ml.feature import VectorAssembler\n",
        "from pyspark.ml.evaluation import MulticlassClassificationEvaluator\n",
        "from pyspark.sql import functions as f"
      ]
    },
    {
      "cell_type": "code",
      "source": [
        "from google.colab import drive\n",
        "drive.mount('/content/drive')"
      ],
      "metadata": {
        "colab": {
          "base_uri": "https://localhost:8080/"
        },
        "id": "1I_N05K_BtXH",
        "outputId": "d3164832-e95e-4b96-ea45-120320bd4f48"
      },
      "execution_count": 2,
      "outputs": [
        {
          "output_type": "stream",
          "name": "stdout",
          "text": [
            "Drive already mounted at /content/drive; to attempt to forcibly remount, call drive.mount(\"/content/drive\", force_remount=True).\n"
          ]
        }
      ]
    },
    {
      "cell_type": "code",
      "source": [
        "spark = SparkSession.builder.appName(\"PySparkBankChurners\").getOrCreate()\n",
        "#Создаём Spark сессию\n",
        "spark"
      ],
      "metadata": {
        "colab": {
          "base_uri": "https://localhost:8080/",
          "height": 219
        },
        "id": "jxi14BawjCex",
        "outputId": "81a0e6e0-ad0f-4e88-9c06-595165da5a25"
      },
      "execution_count": 3,
      "outputs": [
        {
          "output_type": "execute_result",
          "data": {
            "text/plain": [
              "<pyspark.sql.session.SparkSession at 0x7db63085e230>"
            ],
            "text/html": [
              "\n",
              "            <div>\n",
              "                <p><b>SparkSession - in-memory</b></p>\n",
              "                \n",
              "        <div>\n",
              "            <p><b>SparkContext</b></p>\n",
              "\n",
              "            <p><a href=\"http://2acc7da2a1ba:4040\">Spark UI</a></p>\n",
              "\n",
              "            <dl>\n",
              "              <dt>Version</dt>\n",
              "                <dd><code>v3.5.1</code></dd>\n",
              "              <dt>Master</dt>\n",
              "                <dd><code>local[*]</code></dd>\n",
              "              <dt>AppName</dt>\n",
              "                <dd><code>PySparkBankChurners</code></dd>\n",
              "            </dl>\n",
              "        </div>\n",
              "        \n",
              "            </div>\n",
              "        "
            ]
          },
          "metadata": {},
          "execution_count": 3
        }
      ]
    },
    {
      "cell_type": "code",
      "source": [
        "spark = SparkSession\\\n",
        "    .builder\\\n",
        "    .master(\"local[*]\")\\\n",
        "    .appName(\"Spark ML Production\")\\\n",
        "    .getOrCreate()"
      ],
      "metadata": {
        "id": "ayxPOAgdjMjA"
      },
      "execution_count": 4,
      "outputs": []
    },
    {
      "cell_type": "markdown",
      "source": [
        "## Загрузка и знакомство с данными"
      ],
      "metadata": {
        "id": "tMbCbgLefsVB"
      }
    },
    {
      "cell_type": "code",
      "source": [
        "raw = spark\\\n",
        "    .read\\\n",
        "    .option(\"header\", \"true\")\\\n",
        "    .option(\"inferSchema\", \"true\")\\\n",
        "    .csv(\"/content/BankChurners.csv\")"
      ],
      "metadata": {
        "id": "Vuq-xE5Gfakf"
      },
      "execution_count": 5,
      "outputs": []
    },
    {
      "cell_type": "markdown",
      "source": [
        "Убираем первую и последние две колонки"
      ],
      "metadata": {
        "id": "KM1xeFdFgJNf"
      }
    },
    {
      "cell_type": "code",
      "source": [
        "columns = raw.columns\n",
        "columnsLen = len(columns)\n",
        "colsToDrop = columns[0].split() + columns[columnsLen-2:columnsLen]\n",
        "\n",
        "df = raw.drop(*colsToDrop)\n",
        "\n",
        "df.show(5, False)"
      ],
      "metadata": {
        "colab": {
          "base_uri": "https://localhost:8080/"
        },
        "id": "7SHXArr0gD9j",
        "outputId": "d9d97654-15c6-4e43-b7dc-39f6d4a3e0b2"
      },
      "execution_count": 6,
      "outputs": [
        {
          "output_type": "stream",
          "name": "stdout",
          "text": [
            "+-----------------+------------+------+---------------+---------------+--------------+---------------+-------------+--------------+------------------------+----------------------+---------------------+------------+-------------------+---------------+--------------------+---------------+--------------+-------------------+---------------------+\n",
            "|Attrition_Flag   |Customer_Age|Gender|Dependent_count|Education_Level|Marital_Status|Income_Category|Card_Category|Months_on_book|Total_Relationship_Count|Months_Inactive_12_mon|Contacts_Count_12_mon|Credit_Limit|Total_Revolving_Bal|Avg_Open_To_Buy|Total_Amt_Chng_Q4_Q1|Total_Trans_Amt|Total_Trans_Ct|Total_Ct_Chng_Q4_Q1|Avg_Utilization_Ratio|\n",
            "+-----------------+------------+------+---------------+---------------+--------------+---------------+-------------+--------------+------------------------+----------------------+---------------------+------------+-------------------+---------------+--------------------+---------------+--------------+-------------------+---------------------+\n",
            "|Existing Customer|45          |M     |3              |High School    |Married       |$60K - $80K    |Blue         |39            |5                       |1                     |3                    |12691.0     |777                |11914.0        |1.335               |1144           |42            |1.625              |0.061                |\n",
            "|Existing Customer|49          |F     |5              |Graduate       |Single        |Less than $40K |Blue         |44            |6                       |1                     |2                    |8256.0      |864                |7392.0         |1.541               |1291           |33            |3.714              |0.105                |\n",
            "|Existing Customer|51          |M     |3              |Graduate       |Married       |$80K - $120K   |Blue         |36            |4                       |1                     |0                    |3418.0      |0                  |3418.0         |2.594               |1887           |20            |2.333              |0.0                  |\n",
            "|Existing Customer|40          |F     |4              |High School    |Unknown       |Less than $40K |Blue         |34            |3                       |4                     |1                    |3313.0      |2517               |796.0          |1.405               |1171           |20            |2.333              |0.76                 |\n",
            "|Existing Customer|40          |M     |3              |Uneducated     |Married       |$60K - $80K    |Blue         |21            |5                       |1                     |0                    |4716.0      |0                  |4716.0         |2.175               |816            |28            |2.5                |0.0                  |\n",
            "+-----------------+------------+------+---------------+---------------+--------------+---------------+-------------+--------------+------------------------+----------------------+---------------------+------------+-------------------+---------------+--------------------+---------------+--------------+-------------------+---------------------+\n",
            "only showing top 5 rows\n",
            "\n"
          ]
        }
      ]
    },
    {
      "cell_type": "markdown",
      "source": [
        "### Определяем типы колонок\n"
      ],
      "metadata": {
        "id": "wnBPXGhogdO_"
      }
    },
    {
      "cell_type": "code",
      "source": [
        "df.printSchema()"
      ],
      "metadata": {
        "colab": {
          "base_uri": "https://localhost:8080/"
        },
        "id": "KnleImB6gcHR",
        "outputId": "ce779b8d-7caa-46f4-ebcb-676d7cd23612"
      },
      "execution_count": 7,
      "outputs": [
        {
          "output_type": "stream",
          "name": "stdout",
          "text": [
            "root\n",
            " |-- Attrition_Flag: string (nullable = true)\n",
            " |-- Customer_Age: integer (nullable = true)\n",
            " |-- Gender: string (nullable = true)\n",
            " |-- Dependent_count: integer (nullable = true)\n",
            " |-- Education_Level: string (nullable = true)\n",
            " |-- Marital_Status: string (nullable = true)\n",
            " |-- Income_Category: string (nullable = true)\n",
            " |-- Card_Category: string (nullable = true)\n",
            " |-- Months_on_book: integer (nullable = true)\n",
            " |-- Total_Relationship_Count: integer (nullable = true)\n",
            " |-- Months_Inactive_12_mon: integer (nullable = true)\n",
            " |-- Contacts_Count_12_mon: integer (nullable = true)\n",
            " |-- Credit_Limit: double (nullable = true)\n",
            " |-- Total_Revolving_Bal: integer (nullable = true)\n",
            " |-- Avg_Open_To_Buy: double (nullable = true)\n",
            " |-- Total_Amt_Chng_Q4_Q1: double (nullable = true)\n",
            " |-- Total_Trans_Amt: integer (nullable = true)\n",
            " |-- Total_Trans_Ct: integer (nullable = true)\n",
            " |-- Total_Ct_Chng_Q4_Q1: double (nullable = true)\n",
            " |-- Avg_Utilization_Ratio: double (nullable = true)\n",
            "\n"
          ]
        }
      ]
    },
    {
      "cell_type": "markdown",
      "source": [
        "Обработка результата с помощью метода dtypes.\n",
        "Вывод в удобном виде названия колонок и их типа:"
      ],
      "metadata": {
        "id": "ZGTpnnU2g9oY"
      }
    },
    {
      "cell_type": "code",
      "source": [
        "dt = df.dtypes\n",
        "for r in dt:\n",
        "    print(f\"{r[0]:>25}\\t{r[1]}\")"
      ],
      "metadata": {
        "colab": {
          "base_uri": "https://localhost:8080/"
        },
        "id": "eU3Fm1bUgxy0",
        "outputId": "c1fd2a0e-f87d-4199-eb11-fc73f2964c30"
      },
      "execution_count": 8,
      "outputs": [
        {
          "output_type": "stream",
          "name": "stdout",
          "text": [
            "           Attrition_Flag\tstring\n",
            "             Customer_Age\tint\n",
            "                   Gender\tstring\n",
            "          Dependent_count\tint\n",
            "          Education_Level\tstring\n",
            "           Marital_Status\tstring\n",
            "          Income_Category\tstring\n",
            "            Card_Category\tstring\n",
            "           Months_on_book\tint\n",
            " Total_Relationship_Count\tint\n",
            "   Months_Inactive_12_mon\tint\n",
            "    Contacts_Count_12_mon\tint\n",
            "             Credit_Limit\tdouble\n",
            "      Total_Revolving_Bal\tint\n",
            "          Avg_Open_To_Buy\tdouble\n",
            "     Total_Amt_Chng_Q4_Q1\tdouble\n",
            "          Total_Trans_Amt\tint\n",
            "           Total_Trans_Ct\tint\n",
            "      Total_Ct_Chng_Q4_Q1\tdouble\n",
            "    Avg_Utilization_Ratio\tdouble\n"
          ]
        }
      ]
    },
    {
      "cell_type": "markdown",
      "source": [
        "Посмотрим соклько колонок каждого типа"
      ],
      "metadata": {
        "id": "3FOXwy2whQUy"
      }
    },
    {
      "cell_type": "code",
      "source": [
        "from itertools import groupby\n",
        "\n",
        "dt.sort(key=lambda x: x[1])\n",
        "\n",
        "for k, g in groupby(dt, lambda x: x[1]):\n",
        "    print(k, len(list(g)))"
      ],
      "metadata": {
        "colab": {
          "base_uri": "https://localhost:8080/"
        },
        "id": "jxxnzw09hUuB",
        "outputId": "d3f3ec6c-9ebb-4af9-9398-3557797f89e1"
      },
      "execution_count": 9,
      "outputs": [
        {
          "output_type": "stream",
          "name": "stdout",
          "text": [
            "double 5\n",
            "int 9\n",
            "string 6\n"
          ]
        }
      ]
    },
    {
      "cell_type": "markdown",
      "source": [
        "### Проверим числовые колонки"
      ],
      "metadata": {
        "id": "xcWN9M4YjaHh"
      }
    },
    {
      "cell_type": "code",
      "source": [
        "numericColumns = list(\n",
        "    map(lambda x: x[0],\n",
        "        filter(lambda x: x[1] == \"double\" or x[1] == \"int\",\n",
        "               df.dtypes)))\n",
        "df.select(*numericColumns).summary().show()"
      ],
      "metadata": {
        "colab": {
          "base_uri": "https://localhost:8080/"
        },
        "id": "87Uy6L54je_F",
        "outputId": "2ec3a27c-d1e1-4845-9778-c813bef20f9c"
      },
      "execution_count": 10,
      "outputs": [
        {
          "output_type": "stream",
          "name": "stdout",
          "text": [
            "+-------+-----------------+------------------+------------------+------------------------+----------------------+---------------------+-----------------+-------------------+-----------------+--------------------+-----------------+-----------------+-------------------+---------------------+\n",
            "|summary|     Customer_Age|   Dependent_count|    Months_on_book|Total_Relationship_Count|Months_Inactive_12_mon|Contacts_Count_12_mon|     Credit_Limit|Total_Revolving_Bal|  Avg_Open_To_Buy|Total_Amt_Chng_Q4_Q1|  Total_Trans_Amt|   Total_Trans_Ct|Total_Ct_Chng_Q4_Q1|Avg_Utilization_Ratio|\n",
            "+-------+-----------------+------------------+------------------+------------------------+----------------------+---------------------+-----------------+-------------------+-----------------+--------------------+-----------------+-----------------+-------------------+---------------------+\n",
            "|  count|            10127|             10127|             10127|                   10127|                 10127|                10127|            10127|              10127|            10127|               10127|            10127|            10127|              10127|                10127|\n",
            "|   mean|46.32596030413745|2.3462032191172115|35.928409203120374|      3.8125802310654686|    2.3411671768539546|   2.4553174681544387|8631.953698034848| 1162.8140614199665|7469.139636614887|  0.7599406536980376|4404.086303939963|64.85869457884863| 0.7122223758269962|   0.2748935518909845|\n",
            "| stddev|8.016814032549046|  1.29890834890379|  7.98641633087208|        1.55440786533883|    1.0106223994182844|   1.1062251426359249|9088.776650223148|  814.9873352357533|9090.685323679114|  0.2192067692307027|3397.129253557085|23.47257044923301|0.23808609133294137|  0.27569146925238736|\n",
            "|    min|               26|                 0|                13|                       1|                     0|                    0|           1438.3|                  0|              3.0|                 0.0|              510|               10|                0.0|                  0.0|\n",
            "|    25%|               41|                 1|                31|                       3|                     2|                    2|           2555.0|                357|           1322.0|               0.631|             2155|               45|              0.581|                0.022|\n",
            "|    50%|               46|                 2|                36|                       4|                     2|                    2|           4549.0|               1276|           3472.0|               0.736|             3899|               67|              0.702|                0.175|\n",
            "|    75%|               52|                 3|                40|                       5|                     3|                    3|          11067.0|               1784|           9857.0|               0.859|             4741|               81|              0.818|                0.503|\n",
            "|    max|               73|                 5|                56|                       6|                     6|                    6|          34516.0|               2517|          34516.0|               3.397|            18484|              139|              3.714|                0.999|\n",
            "+-------+-----------------+------------------+------------------+------------------------+----------------------+---------------------+-----------------+-------------------+-----------------+--------------------+-----------------+-----------------+-------------------+---------------------+\n",
            "\n"
          ]
        }
      ]
    },
    {
      "cell_type": "code",
      "source": [
        "df.groupBy(\"Customer_Age\").count().show(30) # Значение колонки Customer_Age"
      ],
      "metadata": {
        "colab": {
          "base_uri": "https://localhost:8080/"
        },
        "id": "y60pUl7dj18l",
        "outputId": "02ffb245-fd3d-471d-a913-4dd3e6bbb3a1"
      },
      "execution_count": 11,
      "outputs": [
        {
          "output_type": "stream",
          "name": "stdout",
          "text": [
            "+------------+-----+\n",
            "|Customer_Age|count|\n",
            "+------------+-----+\n",
            "|          31|   91|\n",
            "|          65|  101|\n",
            "|          53|  387|\n",
            "|          34|  146|\n",
            "|          28|   29|\n",
            "|          26|   78|\n",
            "|          27|   32|\n",
            "|          44|  500|\n",
            "|          47|  479|\n",
            "|          52|  376|\n",
            "|          40|  361|\n",
            "|          57|  223|\n",
            "|          54|  307|\n",
            "|          48|  472|\n",
            "|          64|   43|\n",
            "|          41|  379|\n",
            "|          43|  473|\n",
            "|          37|  260|\n",
            "|          61|   93|\n",
            "|          35|  184|\n",
            "|          59|  157|\n",
            "|          55|  279|\n",
            "|          39|  333|\n",
            "|          49|  495|\n",
            "|          51|  398|\n",
            "|          63|   65|\n",
            "|          50|  452|\n",
            "|          45|  486|\n",
            "|          38|  303|\n",
            "|          73|    1|\n",
            "+------------+-----+\n",
            "only showing top 30 rows\n",
            "\n"
          ]
        }
      ]
    },
    {
      "cell_type": "markdown",
      "source": [
        "### Построим график для получения распределения клиентов по возрасту"
      ],
      "metadata": {
        "id": "8DWelL9wkVNu"
      }
    },
    {
      "cell_type": "code",
      "source": [
        "import matplotlib.pyplot as plt\n",
        "\n",
        "age = df.groupBy(\"Customer_Age\").count().orderBy(\"Customer_Age\")\n",
        "x_val = [val[\"Customer_Age\"] for val in age.select(\"Customer_Age\").collect()]\n",
        "y_val = [val[\"count\"] for val in age.select(\"count\").collect()]\n",
        "\n",
        "plt.plot(x_val, y_val)\n",
        "\n",
        "plt.xlabel(\"Customer_Age\")\n",
        "plt.ylabel(\"count\")\n",
        "plt.title(\"Распределение клиентов по возрасту\")\n",
        "\n",
        "plt.show()"
      ],
      "metadata": {
        "colab": {
          "base_uri": "https://localhost:8080/",
          "height": 472
        },
        "id": "rymW8PK8kLTF",
        "outputId": "f86ecf5a-d287-497b-8e79-870a5acea2d2"
      },
      "execution_count": 12,
      "outputs": [
        {
          "output_type": "display_data",
          "data": {
            "text/plain": [
              "<Figure size 640x480 with 1 Axes>"
            ],
            "image/png": "[encoded data removed]"
          },
          "metadata": {}
        }
      ]
    },
    {
      "cell_type": "markdown",
      "source": [
        "## Целевая колонка"
      ],
      "metadata": {
        "id": "RfwKKUUorLME"
      }
    },
    {
      "cell_type": "code",
      "source": [
        "dft = df\\\n",
        "    .withColumn(\"target\",\n",
        "                f.when(df[\"Attrition_Flag\"] == \"Existing Customer\",\n",
        "                       0).otherwise(1))\n",
        "\n",
        "dft.select(\"Attrition_Flag\", \"target\").show(5, False)"
      ],
      "metadata": {
        "colab": {
          "base_uri": "https://localhost:8080/"
        },
        "id": "3CAiaKdqrPeb",
        "outputId": "184ba6a8-ecbc-4f0b-b680-3e648e846403"
      },
      "execution_count": 13,
      "outputs": [
        {
          "output_type": "stream",
          "name": "stdout",
          "text": [
            "+-----------------+------+\n",
            "|Attrition_Flag   |target|\n",
            "+-----------------+------+\n",
            "|Existing Customer|0     |\n",
            "|Existing Customer|0     |\n",
            "|Existing Customer|0     |\n",
            "|Existing Customer|0     |\n",
            "|Existing Customer|0     |\n",
            "+-----------------+------+\n",
            "only showing top 5 rows\n",
            "\n"
          ]
        }
      ]
    },
    {
      "cell_type": "markdown",
      "source": [
        "### Проверка сбалансированности данных"
      ],
      "metadata": {
        "id": "OH3WpWNUra-v"
      }
    },
    {
      "cell_type": "code",
      "source": [
        "dft.groupBy(\"target\").count().show()"
      ],
      "metadata": {
        "colab": {
          "base_uri": "https://localhost:8080/"
        },
        "id": "6Pkucgl1rgWC",
        "outputId": "70a0c899-7a66-4ddd-b126-0dea9ab4a6c3"
      },
      "execution_count": 14,
      "outputs": [
        {
          "output_type": "stream",
          "name": "stdout",
          "text": [
            "+------+-----+\n",
            "|target|count|\n",
            "+------+-----+\n",
            "|     1| 1627|\n",
            "|     0| 8500|\n",
            "+------+-----+\n",
            "\n"
          ]
        }
      ]
    },
    {
      "cell_type": "markdown",
      "source": [
        "### Oversampling"
      ],
      "metadata": {
        "id": "_Qm97C_J2bxl"
      }
    },
    {
      "cell_type": "code",
      "source": [
        "# Делим DataFrame на 2\n",
        "df1 = dft.filter(dft[\"target\"] == 1)\n",
        "df0 = dft.filter(dft[\"target\"] == 0)\n",
        "\n",
        "# Вычисление кол-ва строк в каждом фрейме данных и сохранение значений в переменные\n",
        "df1count = df1.count()\n",
        "df0count = df0.count()\n",
        "\n",
        "int(df0count / df1count) # Целочисленное деление между числами df 0 и df 1"
      ],
      "metadata": {
        "colab": {
          "base_uri": "https://localhost:8080/"
        },
        "id": "32z38b202d0k",
        "outputId": "d2060adc-34e3-4baa-be9a-34a0357d89c3"
      },
      "execution_count": 15,
      "outputs": [
        {
          "output_type": "execute_result",
          "data": {
            "text/plain": [
              "5"
            ]
          },
          "metadata": {},
          "execution_count": 15
        }
      ]
    },
    {
      "cell_type": "code",
      "source": [
        "df1Over = df1\\\n",
        "    .withColumn(\"dummy\",\n",
        "                f.explode(\n",
        "                    f.array(*[f.lit(x)\n",
        "                              for x in range(int(df0count / df1count))])))\\\n",
        "    .drop(\"dummy\")\n",
        "\n",
        "df1Over.show(10, False)"
      ],
      "metadata": {
        "colab": {
          "base_uri": "https://localhost:8080/"
        },
        "id": "nyL0fCHl2s9B",
        "outputId": "ec823454-0509-492c-ca07-017cb484ceba"
      },
      "execution_count": 16,
      "outputs": [
        {
          "output_type": "stream",
          "name": "stdout",
          "text": [
            "+-----------------+------------+------+---------------+---------------+--------------+---------------+-------------+--------------+------------------------+----------------------+---------------------+------------+-------------------+---------------+--------------------+---------------+--------------+-------------------+---------------------+------+\n",
            "|Attrition_Flag   |Customer_Age|Gender|Dependent_count|Education_Level|Marital_Status|Income_Category|Card_Category|Months_on_book|Total_Relationship_Count|Months_Inactive_12_mon|Contacts_Count_12_mon|Credit_Limit|Total_Revolving_Bal|Avg_Open_To_Buy|Total_Amt_Chng_Q4_Q1|Total_Trans_Amt|Total_Trans_Ct|Total_Ct_Chng_Q4_Q1|Avg_Utilization_Ratio|target|\n",
            "+-----------------+------------+------+---------------+---------------+--------------+---------------+-------------+--------------+------------------------+----------------------+---------------------+------------+-------------------+---------------+--------------------+---------------+--------------+-------------------+---------------------+------+\n",
            "|Attrited Customer|62          |F     |0              |Graduate       |Married       |Less than $40K |Blue         |49            |2                       |3                     |3                    |1438.3      |0                  |1438.3         |1.047               |692            |16            |0.6                |0.0                  |1     |\n",
            "|Attrited Customer|62          |F     |0              |Graduate       |Married       |Less than $40K |Blue         |49            |2                       |3                     |3                    |1438.3      |0                  |1438.3         |1.047               |692            |16            |0.6                |0.0                  |1     |\n",
            "|Attrited Customer|62          |F     |0              |Graduate       |Married       |Less than $40K |Blue         |49            |2                       |3                     |3                    |1438.3      |0                  |1438.3         |1.047               |692            |16            |0.6                |0.0                  |1     |\n",
            "|Attrited Customer|62          |F     |0              |Graduate       |Married       |Less than $40K |Blue         |49            |2                       |3                     |3                    |1438.3      |0                  |1438.3         |1.047               |692            |16            |0.6                |0.0                  |1     |\n",
            "|Attrited Customer|62          |F     |0              |Graduate       |Married       |Less than $40K |Blue         |49            |2                       |3                     |3                    |1438.3      |0                  |1438.3         |1.047               |692            |16            |0.6                |0.0                  |1     |\n",
            "|Attrited Customer|66          |F     |0              |Doctorate      |Married       |Unknown        |Blue         |56            |5                       |4                     |3                    |7882.0      |605                |7277.0         |1.052               |704            |16            |0.143              |0.077                |1     |\n",
            "|Attrited Customer|66          |F     |0              |Doctorate      |Married       |Unknown        |Blue         |56            |5                       |4                     |3                    |7882.0      |605                |7277.0         |1.052               |704            |16            |0.143              |0.077                |1     |\n",
            "|Attrited Customer|66          |F     |0              |Doctorate      |Married       |Unknown        |Blue         |56            |5                       |4                     |3                    |7882.0      |605                |7277.0         |1.052               |704            |16            |0.143              |0.077                |1     |\n",
            "|Attrited Customer|66          |F     |0              |Doctorate      |Married       |Unknown        |Blue         |56            |5                       |4                     |3                    |7882.0      |605                |7277.0         |1.052               |704            |16            |0.143              |0.077                |1     |\n",
            "|Attrited Customer|66          |F     |0              |Doctorate      |Married       |Unknown        |Blue         |56            |5                       |4                     |3                    |7882.0      |605                |7277.0         |1.052               |704            |16            |0.143              |0.077                |1     |\n",
            "+-----------------+------------+------+---------------+---------------+--------------+---------------+-------------+--------------+------------------------+----------------------+---------------------+------------+-------------------+---------------+--------------------+---------------+--------------+-------------------+---------------------+------+\n",
            "only showing top 10 rows\n",
            "\n"
          ]
        }
      ]
    },
    {
      "cell_type": "code",
      "source": [
        "data = df0.unionAll(df1Over)\n",
        "data.groupBy(\"target\").count().show()"
      ],
      "metadata": {
        "colab": {
          "base_uri": "https://localhost:8080/"
        },
        "id": "1VHsHXbL3Kkx",
        "outputId": "5cf97aae-f4dc-4417-924b-7627b4c58b5d"
      },
      "execution_count": 17,
      "outputs": [
        {
          "output_type": "stream",
          "name": "stdout",
          "text": [
            "+------+-----+\n",
            "|target|count|\n",
            "+------+-----+\n",
            "|     0| 8500|\n",
            "|     1| 8135|\n",
            "+------+-----+\n",
            "\n"
          ]
        }
      ]
    },
    {
      "cell_type": "markdown",
      "source": [
        "# Подготовка данных. Работа с признаками\n",
        "## Проверка корреляции числовых признаков\n",
        "### Используем DataFrameStatFunctions"
      ],
      "metadata": {
        "id": "0KRfiZgF5E3G"
      }
    },
    {
      "cell_type": "code",
      "source": [
        "from itertools import combinations\n",
        "\n",
        "numericColumnsPairs = list(combinations(numericColumns, 2))\n",
        "numericColumnsPairs"
      ],
      "metadata": {
        "colab": {
          "base_uri": "https://localhost:8080/"
        },
        "id": "vdKuUQDi5ihf",
        "outputId": "90846330-9dfe-46a2-c952-d35f0a1c6488"
      },
      "execution_count": 18,
      "outputs": [
        {
          "output_type": "execute_result",
          "data": {
            "text/plain": [
              "[('Customer_Age', 'Dependent_count'),\n",
              " ('Customer_Age', 'Months_on_book'),\n",
              " ('Customer_Age', 'Total_Relationship_Count'),\n",
              " ('Customer_Age', 'Months_Inactive_12_mon'),\n",
              " ('Customer_Age', 'Contacts_Count_12_mon'),\n",
              " ('Customer_Age', 'Credit_Limit'),\n",
              " ('Customer_Age', 'Total_Revolving_Bal'),\n",
              " ('Customer_Age', 'Avg_Open_To_Buy'),\n",
              " ('Customer_Age', 'Total_Amt_Chng_Q4_Q1'),\n",
              " ('Customer_Age', 'Total_Trans_Amt'),\n",
              " ('Customer_Age', 'Total_Trans_Ct'),\n",
              " ('Customer_Age', 'Total_Ct_Chng_Q4_Q1'),\n",
              " ('Customer_Age', 'Avg_Utilization_Ratio'),\n",
              " ('Dependent_count', 'Months_on_book'),\n",
              " ('Dependent_count', 'Total_Relationship_Count'),\n",
              " ('Dependent_count', 'Months_Inactive_12_mon'),\n",
              " ('Dependent_count', 'Contacts_Count_12_mon'),\n",
              " ('Dependent_count', 'Credit_Limit'),\n",
              " ('Dependent_count', 'Total_Revolving_Bal'),\n",
              " ('Dependent_count', 'Avg_Open_To_Buy'),\n",
              " ('Dependent_count', 'Total_Amt_Chng_Q4_Q1'),\n",
              " ('Dependent_count', 'Total_Trans_Amt'),\n",
              " ('Dependent_count', 'Total_Trans_Ct'),\n",
              " ('Dependent_count', 'Total_Ct_Chng_Q4_Q1'),\n",
              " ('Dependent_count', 'Avg_Utilization_Ratio'),\n",
              " ('Months_on_book', 'Total_Relationship_Count'),\n",
              " ('Months_on_book', 'Months_Inactive_12_mon'),\n",
              " ('Months_on_book', 'Contacts_Count_12_mon'),\n",
              " ('Months_on_book', 'Credit_Limit'),\n",
              " ('Months_on_book', 'Total_Revolving_Bal'),\n",
              " ('Months_on_book', 'Avg_Open_To_Buy'),\n",
              " ('Months_on_book', 'Total_Amt_Chng_Q4_Q1'),\n",
              " ('Months_on_book', 'Total_Trans_Amt'),\n",
              " ('Months_on_book', 'Total_Trans_Ct'),\n",
              " ('Months_on_book', 'Total_Ct_Chng_Q4_Q1'),\n",
              " ('Months_on_book', 'Avg_Utilization_Ratio'),\n",
              " ('Total_Relationship_Count', 'Months_Inactive_12_mon'),\n",
              " ('Total_Relationship_Count', 'Contacts_Count_12_mon'),\n",
              " ('Total_Relationship_Count', 'Credit_Limit'),\n",
              " ('Total_Relationship_Count', 'Total_Revolving_Bal'),\n",
              " ('Total_Relationship_Count', 'Avg_Open_To_Buy'),\n",
              " ('Total_Relationship_Count', 'Total_Amt_Chng_Q4_Q1'),\n",
              " ('Total_Relationship_Count', 'Total_Trans_Amt'),\n",
              " ('Total_Relationship_Count', 'Total_Trans_Ct'),\n",
              " ('Total_Relationship_Count', 'Total_Ct_Chng_Q4_Q1'),\n",
              " ('Total_Relationship_Count', 'Avg_Utilization_Ratio'),\n",
              " ('Months_Inactive_12_mon', 'Contacts_Count_12_mon'),\n",
              " ('Months_Inactive_12_mon', 'Credit_Limit'),\n",
              " ('Months_Inactive_12_mon', 'Total_Revolving_Bal'),\n",
              " ('Months_Inactive_12_mon', 'Avg_Open_To_Buy'),\n",
              " ('Months_Inactive_12_mon', 'Total_Amt_Chng_Q4_Q1'),\n",
              " ('Months_Inactive_12_mon', 'Total_Trans_Amt'),\n",
              " ('Months_Inactive_12_mon', 'Total_Trans_Ct'),\n",
              " ('Months_Inactive_12_mon', 'Total_Ct_Chng_Q4_Q1'),\n",
              " ('Months_Inactive_12_mon', 'Avg_Utilization_Ratio'),\n",
              " ('Contacts_Count_12_mon', 'Credit_Limit'),\n",
              " ('Contacts_Count_12_mon', 'Total_Revolving_Bal'),\n",
              " ('Contacts_Count_12_mon', 'Avg_Open_To_Buy'),\n",
              " ('Contacts_Count_12_mon', 'Total_Amt_Chng_Q4_Q1'),\n",
              " ('Contacts_Count_12_mon', 'Total_Trans_Amt'),\n",
              " ('Contacts_Count_12_mon', 'Total_Trans_Ct'),\n",
              " ('Contacts_Count_12_mon', 'Total_Ct_Chng_Q4_Q1'),\n",
              " ('Contacts_Count_12_mon', 'Avg_Utilization_Ratio'),\n",
              " ('Credit_Limit', 'Total_Revolving_Bal'),\n",
              " ('Credit_Limit', 'Avg_Open_To_Buy'),\n",
              " ('Credit_Limit', 'Total_Amt_Chng_Q4_Q1'),\n",
              " ('Credit_Limit', 'Total_Trans_Amt'),\n",
              " ('Credit_Limit', 'Total_Trans_Ct'),\n",
              " ('Credit_Limit', 'Total_Ct_Chng_Q4_Q1'),\n",
              " ('Credit_Limit', 'Avg_Utilization_Ratio'),\n",
              " ('Total_Revolving_Bal', 'Avg_Open_To_Buy'),\n",
              " ('Total_Revolving_Bal', 'Total_Amt_Chng_Q4_Q1'),\n",
              " ('Total_Revolving_Bal', 'Total_Trans_Amt'),\n",
              " ('Total_Revolving_Bal', 'Total_Trans_Ct'),\n",
              " ('Total_Revolving_Bal', 'Total_Ct_Chng_Q4_Q1'),\n",
              " ('Total_Revolving_Bal', 'Avg_Utilization_Ratio'),\n",
              " ('Avg_Open_To_Buy', 'Total_Amt_Chng_Q4_Q1'),\n",
              " ('Avg_Open_To_Buy', 'Total_Trans_Amt'),\n",
              " ('Avg_Open_To_Buy', 'Total_Trans_Ct'),\n",
              " ('Avg_Open_To_Buy', 'Total_Ct_Chng_Q4_Q1'),\n",
              " ('Avg_Open_To_Buy', 'Avg_Utilization_Ratio'),\n",
              " ('Total_Amt_Chng_Q4_Q1', 'Total_Trans_Amt'),\n",
              " ('Total_Amt_Chng_Q4_Q1', 'Total_Trans_Ct'),\n",
              " ('Total_Amt_Chng_Q4_Q1', 'Total_Ct_Chng_Q4_Q1'),\n",
              " ('Total_Amt_Chng_Q4_Q1', 'Avg_Utilization_Ratio'),\n",
              " ('Total_Trans_Amt', 'Total_Trans_Ct'),\n",
              " ('Total_Trans_Amt', 'Total_Ct_Chng_Q4_Q1'),\n",
              " ('Total_Trans_Amt', 'Avg_Utilization_Ratio'),\n",
              " ('Total_Trans_Ct', 'Total_Ct_Chng_Q4_Q1'),\n",
              " ('Total_Trans_Ct', 'Avg_Utilization_Ratio'),\n",
              " ('Total_Ct_Chng_Q4_Q1', 'Avg_Utilization_Ratio')]"
            ]
          },
          "metadata": {},
          "execution_count": 18
        }
      ]
    },
    {
      "cell_type": "code",
      "source": [
        "corr = list(\n",
        "    filter(\n",
        "        lambda x: abs(x[2]) > 0.6,\n",
        "        map(lambda x: (x[0], x[1], data.stat.corr(x[0], x[1])), numericColumnsPairs)))"
      ],
      "metadata": {
        "id": "m2XAHVSg8BWE"
      },
      "execution_count": 19,
      "outputs": []
    },
    {
      "cell_type": "code",
      "source": [
        "corr.sort(key=lambda x: x[2])\n",
        "for i in reversed(corr):\n",
        "    print(f\"{i[0]:>25} {i[1]:>25}\\t{i[2]}\")"
      ],
      "metadata": {
        "colab": {
          "base_uri": "https://localhost:8080/"
        },
        "id": "hSLK3wUf8PRx",
        "outputId": "6529efc6-575e-4baf-e31c-23c09ff9e0b3"
      },
      "execution_count": 20,
      "outputs": [
        {
          "output_type": "stream",
          "name": "stdout",
          "text": [
            "             Credit_Limit           Avg_Open_To_Buy\t0.9952040726156252\n",
            "          Total_Trans_Amt            Total_Trans_Ct\t0.8053901681243807\n",
            "             Customer_Age            Months_on_book\t0.7805047706891143\n",
            "      Total_Revolving_Bal     Avg_Utilization_Ratio\t0.6946855441968229\n"
          ]
        }
      ]
    },
    {
      "cell_type": "markdown",
      "source": [
        "### Оставим числовые колонки только с низкой корреляцией"
      ],
      "metadata": {
        "id": "0YAAXh7iDGy-"
      }
    },
    {
      "cell_type": "code",
      "source": [
        "numericColumnsFinal = list(\n",
        "    set(numericColumns) - set(map(lambda x: x[1], corr)))\n",
        "\n",
        "numericColumnsFinal"
      ],
      "metadata": {
        "id": "UHrGWyLxDLpn",
        "outputId": "6818dc66-8ce1-4f96-b66f-d18d87a472e2",
        "colab": {
          "base_uri": "https://localhost:8080/"
        }
      },
      "execution_count": 21,
      "outputs": [
        {
          "output_type": "execute_result",
          "data": {
            "text/plain": [
              "['Contacts_Count_12_mon',\n",
              " 'Dependent_count',\n",
              " 'Months_Inactive_12_mon',\n",
              " 'Total_Amt_Chng_Q4_Q1',\n",
              " 'Customer_Age',\n",
              " 'Total_Ct_Chng_Q4_Q1',\n",
              " 'Credit_Limit',\n",
              " 'Total_Relationship_Count',\n",
              " 'Total_Revolving_Bal',\n",
              " 'Total_Trans_Amt']"
            ]
          },
          "metadata": {},
          "execution_count": 21
        }
      ]
    },
    {
      "cell_type": "markdown",
      "source": [
        "### Категориальные признаки\n",
        "Индексируем строковые колонки"
      ],
      "metadata": {
        "id": "mt_vH05HtS4Z"
      }
    },
    {
      "cell_type": "code",
      "source": [
        "from pyspark.ml.feature import StringIndexer\n",
        "\n",
        "stringColumns = list(\n",
        "    filter(\n",
        "        lambda x: x != \"Attrition_Flag\",\n",
        "        map(lambda x: x[0],\n",
        "            filter(lambda x: x[1] == \"string\", data.dtypes))))\n",
        "\n",
        "stringColumnsIndexed = list(map(lambda x: x + \"_Indexed\", stringColumns))\n",
        "\n",
        "# Создаем объект StringIndexer для преобразования строковых значений в числовые индексы\n",
        "indexer = StringIndexer()\\\n",
        "    .setInputCols(stringColumns)\\\n",
        "    .setOutputCols(stringColumnsIndexed)\n",
        "\n",
        "indexed = indexer.fit(data).transform(data)\n",
        "indexed.show(5)"
      ],
      "metadata": {
        "colab": {
          "base_uri": "https://localhost:8080/"
        },
        "id": "aWzWcGsCtQCu",
        "outputId": "171bb510-1bad-4143-e041-1e457809a955"
      },
      "execution_count": 22,
      "outputs": [
        {
          "output_type": "stream",
          "name": "stdout",
          "text": [
            "+-----------------+------------+------+---------------+---------------+--------------+---------------+-------------+--------------+------------------------+----------------------+---------------------+------------+-------------------+---------------+--------------------+---------------+--------------+-------------------+---------------------+------+--------------+-----------------------+----------------------+-----------------------+---------------------+\n",
            "|   Attrition_Flag|Customer_Age|Gender|Dependent_count|Education_Level|Marital_Status|Income_Category|Card_Category|Months_on_book|Total_Relationship_Count|Months_Inactive_12_mon|Contacts_Count_12_mon|Credit_Limit|Total_Revolving_Bal|Avg_Open_To_Buy|Total_Amt_Chng_Q4_Q1|Total_Trans_Amt|Total_Trans_Ct|Total_Ct_Chng_Q4_Q1|Avg_Utilization_Ratio|target|Gender_Indexed|Education_Level_Indexed|Marital_Status_Indexed|Income_Category_Indexed|Card_Category_Indexed|\n",
            "+-----------------+------------+------+---------------+---------------+--------------+---------------+-------------+--------------+------------------------+----------------------+---------------------+------------+-------------------+---------------+--------------------+---------------+--------------+-------------------+---------------------+------+--------------+-----------------------+----------------------+-----------------------+---------------------+\n",
            "|Existing Customer|          45|     M|              3|    High School|       Married|    $60K - $80K|         Blue|            39|                       5|                     1|                    3|     12691.0|                777|        11914.0|               1.335|           1144|            42|              1.625|                0.061|     0|           1.0|                    1.0|                   0.0|                    3.0|                  0.0|\n",
            "|Existing Customer|          49|     F|              5|       Graduate|        Single| Less than $40K|         Blue|            44|                       6|                     1|                    2|      8256.0|                864|         7392.0|               1.541|           1291|            33|              3.714|                0.105|     0|           0.0|                    0.0|                   1.0|                    0.0|                  0.0|\n",
            "|Existing Customer|          51|     M|              3|       Graduate|       Married|   $80K - $120K|         Blue|            36|                       4|                     1|                    0|      3418.0|                  0|         3418.0|               2.594|           1887|            20|              2.333|                  0.0|     0|           1.0|                    0.0|                   0.0|                    2.0|                  0.0|\n",
            "|Existing Customer|          40|     F|              4|    High School|       Unknown| Less than $40K|         Blue|            34|                       3|                     4|                    1|      3313.0|               2517|          796.0|               1.405|           1171|            20|              2.333|                 0.76|     0|           0.0|                    1.0|                   2.0|                    0.0|                  0.0|\n",
            "|Existing Customer|          40|     M|              3|     Uneducated|       Married|    $60K - $80K|         Blue|            21|                       5|                     1|                    0|      4716.0|                  0|         4716.0|               2.175|            816|            28|                2.5|                  0.0|     0|           1.0|                    3.0|                   0.0|                    3.0|                  0.0|\n",
            "+-----------------+------------+------+---------------+---------------+--------------+---------------+-------------+--------------+------------------------+----------------------+---------------------+------------+-------------------+---------------+--------------------+---------------+--------------+-------------------+---------------------+------+--------------+-----------------------+----------------------+-----------------------+---------------------+\n",
            "only showing top 5 rows\n",
            "\n"
          ]
        }
      ]
    },
    {
      "cell_type": "markdown",
      "source": [
        "### Кодируем категориальные признаки"
      ],
      "metadata": {
        "id": "nXpu2TtKxywm"
      }
    },
    {
      "cell_type": "code",
      "source": [
        "from pyspark.ml.feature import OneHotEncoder\n",
        "\n",
        "catColumns = list(map(lambda x: x + \"_Coded\", stringColumnsIndexed))\n",
        "\n",
        "encoder = OneHotEncoder()\\\n",
        "    .setInputCols(stringColumnsIndexed)\\\n",
        "    .setOutputCols(catColumns)\n",
        "\n",
        "encoded = encoder.fit(indexed).transform(indexed)\n",
        "encoded.show(5)"
      ],
      "metadata": {
        "colab": {
          "base_uri": "https://localhost:8080/"
        },
        "id": "HOvZlVMVx2bC",
        "outputId": "8d088b3c-fd90-47e7-e6a5-44b8e00a2b97"
      },
      "execution_count": 23,
      "outputs": [
        {
          "output_type": "stream",
          "name": "stdout",
          "text": [
            "+-----------------+------------+------+---------------+---------------+--------------+---------------+-------------+--------------+------------------------+----------------------+---------------------+------------+-------------------+---------------+--------------------+---------------+--------------+-------------------+---------------------+------+--------------+-----------------------+----------------------+-----------------------+---------------------+--------------------+-----------------------------+----------------------------+-----------------------------+---------------------------+\n",
            "|   Attrition_Flag|Customer_Age|Gender|Dependent_count|Education_Level|Marital_Status|Income_Category|Card_Category|Months_on_book|Total_Relationship_Count|Months_Inactive_12_mon|Contacts_Count_12_mon|Credit_Limit|Total_Revolving_Bal|Avg_Open_To_Buy|Total_Amt_Chng_Q4_Q1|Total_Trans_Amt|Total_Trans_Ct|Total_Ct_Chng_Q4_Q1|Avg_Utilization_Ratio|target|Gender_Indexed|Education_Level_Indexed|Marital_Status_Indexed|Income_Category_Indexed|Card_Category_Indexed|Gender_Indexed_Coded|Education_Level_Indexed_Coded|Marital_Status_Indexed_Coded|Income_Category_Indexed_Coded|Card_Category_Indexed_Coded|\n",
            "+-----------------+------------+------+---------------+---------------+--------------+---------------+-------------+--------------+------------------------+----------------------+---------------------+------------+-------------------+---------------+--------------------+---------------+--------------+-------------------+---------------------+------+--------------+-----------------------+----------------------+-----------------------+---------------------+--------------------+-----------------------------+----------------------------+-----------------------------+---------------------------+\n",
            "|Existing Customer|          45|     M|              3|    High School|       Married|    $60K - $80K|         Blue|            39|                       5|                     1|                    3|     12691.0|                777|        11914.0|               1.335|           1144|            42|              1.625|                0.061|     0|           1.0|                    1.0|                   0.0|                    3.0|                  0.0|           (1,[],[])|                (6,[1],[1.0])|               (3,[0],[1.0])|                (5,[3],[1.0])|              (3,[0],[1.0])|\n",
            "|Existing Customer|          49|     F|              5|       Graduate|        Single| Less than $40K|         Blue|            44|                       6|                     1|                    2|      8256.0|                864|         7392.0|               1.541|           1291|            33|              3.714|                0.105|     0|           0.0|                    0.0|                   1.0|                    0.0|                  0.0|       (1,[0],[1.0])|                (6,[0],[1.0])|               (3,[1],[1.0])|                (5,[0],[1.0])|              (3,[0],[1.0])|\n",
            "|Existing Customer|          51|     M|              3|       Graduate|       Married|   $80K - $120K|         Blue|            36|                       4|                     1|                    0|      3418.0|                  0|         3418.0|               2.594|           1887|            20|              2.333|                  0.0|     0|           1.0|                    0.0|                   0.0|                    2.0|                  0.0|           (1,[],[])|                (6,[0],[1.0])|               (3,[0],[1.0])|                (5,[2],[1.0])|              (3,[0],[1.0])|\n",
            "|Existing Customer|          40|     F|              4|    High School|       Unknown| Less than $40K|         Blue|            34|                       3|                     4|                    1|      3313.0|               2517|          796.0|               1.405|           1171|            20|              2.333|                 0.76|     0|           0.0|                    1.0|                   2.0|                    0.0|                  0.0|       (1,[0],[1.0])|                (6,[1],[1.0])|               (3,[2],[1.0])|                (5,[0],[1.0])|              (3,[0],[1.0])|\n",
            "|Existing Customer|          40|     M|              3|     Uneducated|       Married|    $60K - $80K|         Blue|            21|                       5|                     1|                    0|      4716.0|                  0|         4716.0|               2.175|            816|            28|                2.5|                  0.0|     0|           1.0|                    3.0|                   0.0|                    3.0|                  0.0|           (1,[],[])|                (6,[3],[1.0])|               (3,[0],[1.0])|                (5,[3],[1.0])|              (3,[0],[1.0])|\n",
            "+-----------------+------------+------+---------------+---------------+--------------+---------------+-------------+--------------+------------------------+----------------------+---------------------+------------+-------------------+---------------+--------------------+---------------+--------------+-------------------+---------------------+------+--------------+-----------------------+----------------------+-----------------------+---------------------+--------------------+-----------------------------+----------------------------+-----------------------------+---------------------------+\n",
            "only showing top 5 rows\n",
            "\n"
          ]
        }
      ]
    },
    {
      "cell_type": "markdown",
      "source": [
        "## Сборка признаков в вектор"
      ],
      "metadata": {
        "id": "0gKD8tfPyiH6"
      }
    },
    {
      "cell_type": "code",
      "source": [
        "from pyspark.ml.feature import VectorAssembler\n",
        "\n",
        "featureColumns = numericColumnsFinal + catColumns # Общий список значений\n",
        "\n",
        "# Создаем объект VectorAssembler для объединения выбранных столбцов в один столбец \"features\"\n",
        "assembler = VectorAssembler()\\\n",
        "    .setInputCols(featureColumns)\\\n",
        "    .setOutputCol(\"features\") # Применяем VectorAssembler к закодированным данным, создаем новый столбец \"features\", содержащий объединенные значения\n",
        "\n",
        "assembled = assembler.transform(encoded)\n",
        "assembled.show(5, truncate=False)"
      ],
      "metadata": {
        "colab": {
          "base_uri": "https://localhost:8080/"
        },
        "id": "oa3luci9yhh2",
        "outputId": "08f41c60-483f-47c1-f4ef-7b5ffecedc6e"
      },
      "execution_count": 24,
      "outputs": [
        {
          "output_type": "stream",
          "name": "stdout",
          "text": [
            "+-----------------+------------+------+---------------+---------------+--------------+---------------+-------------+--------------+------------------------+----------------------+---------------------+------------+-------------------+---------------+--------------------+---------------+--------------+-------------------+---------------------+------+--------------+-----------------------+----------------------+-----------------------+---------------------+--------------------+-----------------------------+----------------------------+-----------------------------+---------------------------+---------------------------------------------------------------------------------------------------------------------+\n",
            "|Attrition_Flag   |Customer_Age|Gender|Dependent_count|Education_Level|Marital_Status|Income_Category|Card_Category|Months_on_book|Total_Relationship_Count|Months_Inactive_12_mon|Contacts_Count_12_mon|Credit_Limit|Total_Revolving_Bal|Avg_Open_To_Buy|Total_Amt_Chng_Q4_Q1|Total_Trans_Amt|Total_Trans_Ct|Total_Ct_Chng_Q4_Q1|Avg_Utilization_Ratio|target|Gender_Indexed|Education_Level_Indexed|Marital_Status_Indexed|Income_Category_Indexed|Card_Category_Indexed|Gender_Indexed_Coded|Education_Level_Indexed_Coded|Marital_Status_Indexed_Coded|Income_Category_Indexed_Coded|Card_Category_Indexed_Coded|features                                                                                                             |\n",
            "+-----------------+------------+------+---------------+---------------+--------------+---------------+-------------+--------------+------------------------+----------------------+---------------------+------------+-------------------+---------------+--------------------+---------------+--------------+-------------------+---------------------+------+--------------+-----------------------+----------------------+-----------------------+---------------------+--------------------+-----------------------------+----------------------------+-----------------------------+---------------------------+---------------------------------------------------------------------------------------------------------------------+\n",
            "|Existing Customer|45          |M     |3              |High School    |Married       |$60K - $80K    |Blue         |39            |5                       |1                     |3                    |12691.0     |777                |11914.0        |1.335               |1144           |42            |1.625              |0.061                |0     |1.0           |1.0                    |0.0                   |3.0                    |0.0                  |(1,[],[])           |(6,[1],[1.0])                |(3,[0],[1.0])               |(5,[3],[1.0])                |(3,[0],[1.0])              |(28,[0,1,2,3,4,5,6,7,8,9,12,17,23,25],[3.0,3.0,1.0,1.335,45.0,1.625,12691.0,5.0,777.0,1144.0,1.0,1.0,1.0,1.0])       |\n",
            "|Existing Customer|49          |F     |5              |Graduate       |Single        |Less than $40K |Blue         |44            |6                       |1                     |2                    |8256.0      |864                |7392.0         |1.541               |1291           |33            |3.714              |0.105                |0     |0.0           |0.0                    |1.0                   |0.0                    |0.0                  |(1,[0],[1.0])       |(6,[0],[1.0])                |(3,[1],[1.0])               |(5,[0],[1.0])                |(3,[0],[1.0])              |(28,[0,1,2,3,4,5,6,7,8,9,10,11,18,20,25],[2.0,5.0,1.0,1.541,49.0,3.714,8256.0,6.0,864.0,1291.0,1.0,1.0,1.0,1.0,1.0]) |\n",
            "|Existing Customer|51          |M     |3              |Graduate       |Married       |$80K - $120K   |Blue         |36            |4                       |1                     |0                    |3418.0      |0                  |3418.0         |2.594               |1887           |20            |2.333              |0.0                  |0     |1.0           |0.0                    |0.0                   |2.0                    |0.0                  |(1,[],[])           |(6,[0],[1.0])                |(3,[0],[1.0])               |(5,[2],[1.0])                |(3,[0],[1.0])              |(28,[1,2,3,4,5,6,7,9,11,17,22,25],[3.0,1.0,2.594,51.0,2.333,3418.0,4.0,1887.0,1.0,1.0,1.0,1.0])                      |\n",
            "|Existing Customer|40          |F     |4              |High School    |Unknown       |Less than $40K |Blue         |34            |3                       |4                     |1                    |3313.0      |2517               |796.0          |1.405               |1171           |20            |2.333              |0.76                 |0     |0.0           |1.0                    |2.0                   |0.0                    |0.0                  |(1,[0],[1.0])       |(6,[1],[1.0])                |(3,[2],[1.0])               |(5,[0],[1.0])                |(3,[0],[1.0])              |(28,[0,1,2,3,4,5,6,7,8,9,10,12,19,20,25],[1.0,4.0,4.0,1.405,40.0,2.333,3313.0,3.0,2517.0,1171.0,1.0,1.0,1.0,1.0,1.0])|\n",
            "|Existing Customer|40          |M     |3              |Uneducated     |Married       |$60K - $80K    |Blue         |21            |5                       |1                     |0                    |4716.0      |0                  |4716.0         |2.175               |816            |28            |2.5                |0.0                  |0     |1.0           |3.0                    |0.0                   |3.0                    |0.0                  |(1,[],[])           |(6,[3],[1.0])                |(3,[0],[1.0])               |(5,[3],[1.0])                |(3,[0],[1.0])              |(28,[1,2,3,4,5,6,7,9,14,17,23,25],[3.0,1.0,2.175,40.0,2.5,4716.0,5.0,816.0,1.0,1.0,1.0,1.0])                         |\n",
            "+-----------------+------------+------+---------------+---------------+--------------+---------------+-------------+--------------+------------------------+----------------------+---------------------+------------+-------------------+---------------+--------------------+---------------+--------------+-------------------+---------------------+------+--------------+-----------------------+----------------------+-----------------------+---------------------+--------------------+-----------------------------+----------------------------+-----------------------------+---------------------------+---------------------------------------------------------------------------------------------------------------------+\n",
            "only showing top 5 rows\n",
            "\n"
          ]
        }
      ]
    },
    {
      "cell_type": "code",
      "source": [
        "assembled.select(\"features\").show(5, False)"
      ],
      "metadata": {
        "colab": {
          "base_uri": "https://localhost:8080/"
        },
        "id": "H6VK6xP_1tZk",
        "outputId": "cfefe711-9b8b-469a-d184-592ab43e4aa4"
      },
      "execution_count": 25,
      "outputs": [
        {
          "output_type": "stream",
          "name": "stdout",
          "text": [
            "+---------------------------------------------------------------------------------------------------------------------+\n",
            "|features                                                                                                             |\n",
            "+---------------------------------------------------------------------------------------------------------------------+\n",
            "|(28,[0,1,2,3,4,5,6,7,8,9,12,17,23,25],[3.0,3.0,1.0,1.335,45.0,1.625,12691.0,5.0,777.0,1144.0,1.0,1.0,1.0,1.0])       |\n",
            "|(28,[0,1,2,3,4,5,6,7,8,9,10,11,18,20,25],[2.0,5.0,1.0,1.541,49.0,3.714,8256.0,6.0,864.0,1291.0,1.0,1.0,1.0,1.0,1.0]) |\n",
            "|(28,[1,2,3,4,5,6,7,9,11,17,22,25],[3.0,1.0,2.594,51.0,2.333,3418.0,4.0,1887.0,1.0,1.0,1.0,1.0])                      |\n",
            "|(28,[0,1,2,3,4,5,6,7,8,9,10,12,19,20,25],[1.0,4.0,4.0,1.405,40.0,2.333,3313.0,3.0,2517.0,1171.0,1.0,1.0,1.0,1.0,1.0])|\n",
            "|(28,[1,2,3,4,5,6,7,9,14,17,23,25],[3.0,1.0,2.175,40.0,2.5,4716.0,5.0,816.0,1.0,1.0,1.0,1.0])                         |\n",
            "+---------------------------------------------------------------------------------------------------------------------+\n",
            "only showing top 5 rows\n",
            "\n"
          ]
        }
      ]
    },
    {
      "cell_type": "markdown",
      "source": [
        "### Нормализация"
      ],
      "metadata": {
        "id": "MRktcWEe20cR"
      }
    },
    {
      "cell_type": "code",
      "source": [
        "from pyspark.ml.feature import MinMaxScaler\n",
        "\n",
        "# Создается объект, для которого данные берутся из features, а результат записывается в scaledFeatures\n",
        "scaler = MinMaxScaler()\\\n",
        "    .setInputCol(\"features\")\\\n",
        "    .setOutputCol(\"scaledFeatures\")\n",
        "\n",
        "# Применяем scaler к собранному датафрейму assembled и сохраняем результат в переменную scaled\n",
        "scaled = scaler.fit(assembled).transform(assembled)\n",
        "\n",
        "# Вывод первых 5 строк с колонками \"features\" и \"scaledFeatures\" из датафрейма scaled, без усечения информации (False)\n",
        "scaled.select(\"features\", \"scaledFeatures\").show(5, False)"
      ],
      "metadata": {
        "colab": {
          "base_uri": "https://localhost:8080/"
        },
        "id": "h7Hz6w-B2dhR",
        "outputId": "bbafe496-28a2-4348-d5f6-bd2a9bf9e1d4"
      },
      "execution_count": 26,
      "outputs": [
        {
          "output_type": "stream",
          "name": "stdout",
          "text": [
            "+---------------------------------------------------------------------------------------------------------------------+------------------------------------------------------------------------------------------------------------------------------------------------------------------------------------------------------------------------------+\n",
            "|features                                                                                                             |scaledFeatures                                                                                                                                                                                                                |\n",
            "+---------------------------------------------------------------------------------------------------------------------+------------------------------------------------------------------------------------------------------------------------------------------------------------------------------------------------------------------------------+\n",
            "|(28,[0,1,2,3,4,5,6,7,8,9,12,17,23,25],[3.0,3.0,1.0,1.335,45.0,1.625,12691.0,5.0,777.0,1144.0,1.0,1.0,1.0,1.0])       |(28,[0,1,2,3,4,5,6,7,8,9,12,17,23,25],[0.5,0.6000000000000001,0.16666666666666666,0.39299381807477185,0.40425531914893614,0.43753365643511044,0.3401899164694039,0.8,0.30870083432657924,0.03527317236007566,1.0,1.0,1.0,1.0])|\n",
            "|(28,[0,1,2,3,4,5,6,7,8,9,10,11,18,20,25],[2.0,5.0,1.0,1.541,49.0,3.714,8256.0,6.0,864.0,1291.0,1.0,1.0,1.0,1.0,1.0]) |(28,[0,1,2,3,4,5,6,7,8,9,10,11,18,20,25],[0.3333333333333333,1.0,0.16666666666666666,0.4536355607889314,0.48936170212765956,1.0,0.2061116704002999,1.0,0.3432657926102503,0.043451652386780906,1.0,1.0,1.0,1.0,1.0])          |\n",
            "|(28,[1,2,3,4,5,6,7,9,11,17,22,25],[3.0,1.0,2.594,51.0,2.333,3418.0,4.0,1887.0,1.0,1.0,1.0,1.0])                      |(28,[1,2,3,4,5,6,7,9,11,17,22,25],[0.6000000000000001,0.16666666666666666,0.7636149543715043,0.5319148936170213,0.6281637049003771,0.05984998957001243,0.6000000000000001,0.07661065984199399,1.0,1.0,1.0,1.0])               |\n",
            "|(28,[0,1,2,3,4,5,6,7,8,9,10,12,19,20,25],[1.0,4.0,4.0,1.405,40.0,2.333,3313.0,3.0,2517.0,1171.0,1.0,1.0,1.0,1.0,1.0])|(28,[0,1,2,3,4,5,6,7,8,9,10,12,19,20,25],[0.16666666666666666,0.8,0.6666666666666666,0.41360023550191344,0.2978723404255319,0.6281637049003771,0.056675645525535334,0.4,1.0,0.036775342160899074,1.0,1.0,1.0,1.0,1.0])        |\n",
            "|(28,[1,2,3,4,5,6,7,9,14,17,23,25],[3.0,1.0,2.175,40.0,2.5,4716.0,5.0,816.0,1.0,1.0,1.0,1.0])                         |(28,[1,2,3,4,5,6,7,9,14,17,23,25],[0.6000000000000001,0.16666666666666666,0.6402708272004709,0.2978723404255319,0.6731287022078623,0.09909092832935784,0.8,0.017024591075998664,1.0,1.0,1.0,1.0])                             |\n",
            "+---------------------------------------------------------------------------------------------------------------------+------------------------------------------------------------------------------------------------------------------------------------------------------------------------------------------------------------------------------+\n",
            "only showing top 5 rows\n",
            "\n"
          ]
        }
      ]
    },
    {
      "cell_type": "markdown",
      "source": [
        "## Отбор признаков"
      ],
      "metadata": {
        "id": "zTBJuL526Rsa"
      }
    },
    {
      "cell_type": "code",
      "source": [
        "from pyspark.ml.feature import UnivariateFeatureSelector\n",
        "\n",
        "selector = UnivariateFeatureSelector()\\\n",
        "    .setFeatureType(\"continuous\")\\\n",
        "    .setLabelType(\"categorical\")\\\n",
        "    .setSelectionMode(\"percentile\")\\\n",
        "    .setSelectionThreshold(0.75)\\\n",
        "    .setFeaturesCol(\"scaledFeatures\")\\\n",
        "    .setLabelCol(\"target\")\\\n",
        "    .setOutputCol(\"selectedFeatures\")\n",
        "\n",
        "dataF = selector.fit(scaled).transform(scaled)\n",
        "\n",
        "dataF.select(\"scaledFeatures\", \"selectedFeatures\").show(5, False)"
      ],
      "metadata": {
        "colab": {
          "base_uri": "https://localhost:8080/"
        },
        "id": "J7iQu1ls6Vfa",
        "outputId": "d4b5d60a-ef8d-457b-be64-88af362f9ddb"
      },
      "execution_count": 27,
      "outputs": [
        {
          "output_type": "stream",
          "name": "stdout",
          "text": [
            "+------------------------------------------------------------------------------------------------------------------------------------------------------------------------------------------------------------------------------+-----------------------------------------------------------------------------------------------------------------------------------------------------------------------------------------------------------------------+\n",
            "|scaledFeatures                                                                                                                                                                                                                |selectedFeatures                                                                                                                                                                                                       |\n",
            "+------------------------------------------------------------------------------------------------------------------------------------------------------------------------------------------------------------------------------+-----------------------------------------------------------------------------------------------------------------------------------------------------------------------------------------------------------------------+\n",
            "|(28,[0,1,2,3,4,5,6,7,8,9,12,17,23,25],[0.5,0.6000000000000001,0.16666666666666666,0.39299381807477185,0.40425531914893614,0.43753365643511044,0.3401899164694039,0.8,0.30870083432657924,0.03527317236007566,1.0,1.0,1.0,1.0])|(21,[0,1,2,3,4,5,6,7,8,9,12,15,20],[0.5,0.6000000000000001,0.16666666666666666,0.39299381807477185,0.40425531914893614,0.43753365643511044,0.3401899164694039,0.8,0.30870083432657924,0.03527317236007566,1.0,1.0,1.0])|\n",
            "|(28,[0,1,2,3,4,5,6,7,8,9,10,11,18,20,25],[0.3333333333333333,1.0,0.16666666666666666,0.4536355607889314,0.48936170212765956,1.0,0.2061116704002999,1.0,0.3432657926102503,0.043451652386780906,1.0,1.0,1.0,1.0,1.0])          |(21,[0,1,2,3,4,5,6,7,8,9,10,11,16,18],[0.3333333333333333,1.0,0.16666666666666666,0.4536355607889314,0.48936170212765956,1.0,0.2061116704002999,1.0,0.3432657926102503,0.043451652386780906,1.0,1.0,1.0,1.0])          |\n",
            "|(28,[1,2,3,4,5,6,7,9,11,17,22,25],[0.6000000000000001,0.16666666666666666,0.7636149543715043,0.5319148936170213,0.6281637049003771,0.05984998957001243,0.6000000000000001,0.07661065984199399,1.0,1.0,1.0,1.0])               |(21,[1,2,3,4,5,6,7,9,11,15],[0.6000000000000001,0.16666666666666666,0.7636149543715043,0.5319148936170213,0.6281637049003771,0.05984998957001243,0.6000000000000001,0.07661065984199399,1.0,1.0])                      |\n",
            "|(28,[0,1,2,3,4,5,6,7,8,9,10,12,19,20,25],[0.16666666666666666,0.8,0.6666666666666666,0.41360023550191344,0.2978723404255319,0.6281637049003771,0.056675645525535334,0.4,1.0,0.036775342160899074,1.0,1.0,1.0,1.0,1.0])        |(21,[0,1,2,3,4,5,6,7,8,9,10,12,17,18],[0.16666666666666666,0.8,0.6666666666666666,0.41360023550191344,0.2978723404255319,0.6281637049003771,0.056675645525535334,0.4,1.0,0.036775342160899074,1.0,1.0,1.0,1.0])        |\n",
            "|(28,[1,2,3,4,5,6,7,9,14,17,23,25],[0.6000000000000001,0.16666666666666666,0.6402708272004709,0.2978723404255319,0.6731287022078623,0.09909092832935784,0.8,0.017024591075998664,1.0,1.0,1.0,1.0])                             |(21,[1,2,3,4,5,6,7,9,15,20],[0.6000000000000001,0.16666666666666666,0.6402708272004709,0.2978723404255319,0.6731287022078623,0.09909092832935784,0.8,0.017024591075998664,1.0,1.0])                                    |\n",
            "+------------------------------------------------------------------------------------------------------------------------------------------------------------------------------------------------------------------------------+-----------------------------------------------------------------------------------------------------------------------------------------------------------------------------------------------------------------------+\n",
            "only showing top 5 rows\n",
            "\n"
          ]
        }
      ]
    },
    {
      "cell_type": "markdown",
      "source": [
        "# Моделирование\n",
        "### Обучающая и тестовая выборки"
      ],
      "metadata": {
        "id": "3DCyFW2_8Z0K"
      }
    },
    {
      "cell_type": "code",
      "source": [
        "tt = dataF.randomSplit([0.7, 0.3])\n",
        "training = tt[0]\n",
        "test = tt[1]\n",
        "\n",
        "print(f\"training\\t{training.count():>5}\\ntest    \\t{test.count():>5}\")"
      ],
      "metadata": {
        "colab": {
          "base_uri": "https://localhost:8080/"
        },
        "id": "hg7horCb8ld9",
        "outputId": "aaf4d3bb-850a-45ed-8cb3-3038b76879dd"
      },
      "execution_count": 28,
      "outputs": [
        {
          "output_type": "stream",
          "name": "stdout",
          "text": [
            "training\t11736\n",
            "test    \t 4899\n"
          ]
        }
      ]
    },
    {
      "cell_type": "markdown",
      "source": [
        "### Логистическая регрессия"
      ],
      "metadata": {
        "id": "RFiOtm9n-N0V"
      }
    },
    {
      "cell_type": "code",
      "source": [
        "from pyspark.ml.classification import LogisticRegression\n",
        "\n",
        "lr = LogisticRegression()\\\n",
        "    .setMaxIter(1000)\\\n",
        "    .setRegParam(0.2)\\\n",
        "    .setElasticNetParam(0.8)\\\n",
        "    .setFamily(\"binomial\")\\\n",
        "    .setFeaturesCol(\"selectedFeatures\")\\\n",
        "    .setLabelCol(\"target\")\n",
        "\n",
        "lrModel = lr.fit(training)\n",
        "\n",
        "print(f\"Coefficients: {lrModel.coefficients}\\nIntercept: {lrModel.intercept}\")"
      ],
      "metadata": {
        "colab": {
          "base_uri": "https://localhost:8080/"
        },
        "id": "mfoe9EYW-Q0b",
        "outputId": "81451076-6c31-4ae7-d01b-499225f2be21"
      },
      "execution_count": 29,
      "outputs": [
        {
          "output_type": "stream",
          "name": "stdout",
          "text": [
            "Coefficients: (21,[5],[-1.8778863533094643])\n",
            "Intercept: 0.3019093944678515\n"
          ]
        }
      ]
    },
    {
      "cell_type": "markdown",
      "source": [
        "### Краткое содержание тренинга"
      ],
      "metadata": {
        "id": "nJBwpdfNL5dh"
      }
    },
    {
      "cell_type": "code",
      "source": [
        "trainingSummary = lrModel.summary\n",
        "\n",
        "print(f\"accuracy: {trainingSummary.accuracy}\")\n",
        "print(f\"areaUnderROC: {trainingSummary.areaUnderROC}\")"
      ],
      "metadata": {
        "colab": {
          "base_uri": "https://localhost:8080/"
        },
        "id": "04hr_AFsMoaS",
        "outputId": "00e14098-11b9-4361-864b-e24c0c790ceb"
      },
      "execution_count": 30,
      "outputs": [
        {
          "output_type": "stream",
          "name": "stdout",
          "text": [
            "accuracy: 0.706799591002045\n",
            "areaUnderROC: 0.7477972379239237\n"
          ]
        }
      ]
    },
    {
      "cell_type": "markdown",
      "source": [
        "# Оценка\n",
        "### Проверка модели на тестовой выборке"
      ],
      "metadata": {
        "id": "d3-jMoDeQNBt"
      }
    },
    {
      "cell_type": "code",
      "source": [
        "predicted = lrModel.transform(test)\n",
        "\n",
        "predicted.select(\"target\", \"prediction\").show(10, False)"
      ],
      "metadata": {
        "colab": {
          "base_uri": "https://localhost:8080/"
        },
        "id": "eX7d7G1GQUA7",
        "outputId": "92fedb8c-6fb8-48f0-9ab9-1cabf93c664f"
      },
      "execution_count": 31,
      "outputs": [
        {
          "output_type": "stream",
          "name": "stdout",
          "text": [
            "+------+----------+\n",
            "|target|prediction|\n",
            "+------+----------+\n",
            "|0     |0.0       |\n",
            "|0     |1.0       |\n",
            "|0     |0.0       |\n",
            "|0     |1.0       |\n",
            "|0     |1.0       |\n",
            "|0     |1.0       |\n",
            "|0     |1.0       |\n",
            "|0     |1.0       |\n",
            "|0     |1.0       |\n",
            "|0     |1.0       |\n",
            "+------+----------+\n",
            "only showing top 10 rows\n",
            "\n"
          ]
        }
      ]
    },
    {
      "cell_type": "code",
      "source": [
        "predicted.select(\"target\", \"rawPrediction\", \"probability\", \"prediction\").show(10, False)"
      ],
      "metadata": {
        "colab": {
          "base_uri": "https://localhost:8080/"
        },
        "id": "UqgRRgucQ1yI",
        "outputId": "1ca825c8-5d81-4a9c-835d-b18c93f9b08b"
      },
      "execution_count": 32,
      "outputs": [
        {
          "output_type": "stream",
          "name": "stdout",
          "text": [
            "+------+--------------------------------------------+----------------------------------------+----------+\n",
            "|target|rawPrediction                               |probability                             |prediction|\n",
            "+------+--------------------------------------------+----------------------------------------+----------+\n",
            "|0     |[0.2037142870909704,-0.2037142870909704]    |[0.5507531737290544,0.4492468262709456] |0.0       |\n",
            "|0     |[-0.14415480582149906,0.14415480582149906]  |[0.46402357797149585,0.5359764220285042]|1.0       |\n",
            "|0     |[0.06567902202541198,-0.06567902202541198]  |[0.5164138555133966,0.4835861444866034] |0.0       |\n",
            "|0     |[-0.008142035482175958,0.008142035482175958]|[0.49796450237433676,0.5020354976256632]|1.0       |\n",
            "|0     |[-0.059210027319617,0.059210027319617]      |[0.4852018162405977,0.5147981837594022] |1.0       |\n",
            "|0     |[-0.07336749040326399,0.07336749040326399]  |[0.4816663505081883,0.5183336494918117] |1.0       |\n",
            "|0     |[-0.13353670850876379,0.13353670850876379]  |[0.4666653436023789,0.5333346563976211] |1.0       |\n",
            "|0     |[-0.0900530718947051,0.0900530718947051]    |[0.47750193408174446,0.5224980659182555]|1.0       |\n",
            "|0     |[-0.05668190891182284,0.05668190891182284]  |[0.4858333155084224,0.5141666844915775] |1.0       |\n",
            "|0     |[-0.07437873776638163,0.07437873776638163]  |[0.48141388327282736,0.5185861167271726]|1.0       |\n",
            "+------+--------------------------------------------+----------------------------------------+----------+\n",
            "only showing top 10 rows\n",
            "\n"
          ]
        }
      ]
    },
    {
      "cell_type": "markdown",
      "source": [
        "### Оценка применения модели к тестовой выборке"
      ],
      "metadata": {
        "id": "-ktS5ygCTRfI"
      }
    },
    {
      "cell_type": "code",
      "source": [
        "from pyspark.ml.evaluation import BinaryClassificationEvaluator\n",
        "\n",
        "evaluator = BinaryClassificationEvaluator().setLabelCol(\"target\")\n",
        "\n",
        "print(f\"areaUnderROC: {evaluator.evaluate(predicted)}\")"
      ],
      "metadata": {
        "colab": {
          "base_uri": "https://localhost:8080/"
        },
        "id": "2cR4OEY9TWH6",
        "outputId": "5d261d18-778f-467c-8785-c1bbea81d1f4"
      },
      "execution_count": 33,
      "outputs": [
        {
          "output_type": "stream",
          "name": "stdout",
          "text": [
            "areaUnderROC: 0.7391847599747119\n"
          ]
        }
      ]
    },
    {
      "cell_type": "markdown",
      "source": [
        "### Матрица ошибок"
      ],
      "metadata": {
        "id": "3HiNtoKYVgoV"
      }
    },
    {
      "cell_type": "code",
      "source": [
        "tp = predicted.filter((f.col(\"target\") == 1) & (f.col(\"prediction\") == 1)).count()\n",
        "tn = predicted.filter((f.col(\"target\") == 0) & (f.col(\"prediction\") == 0)).count()\n",
        "fp = predicted.filter((f.col(\"target\") == 0) & (f.col(\"prediction\") == 1)).count()\n",
        "fn = predicted.filter((f.col(\"target\") == 1) & (f.col(\"prediction\") == 0)).count()\n",
        "\n",
        "print(f\"Confusion Matrix:\\n{tp:>4}\\t{fp:>4}\\n{fn:>4}\\t{tn:>4}\")"
      ],
      "metadata": {
        "colab": {
          "base_uri": "https://localhost:8080/"
        },
        "id": "fVBAZoVYVijo",
        "outputId": "6238405c-4166-4da1-8fe2-516d99d2a500"
      },
      "execution_count": 34,
      "outputs": [
        {
          "output_type": "stream",
          "name": "stdout",
          "text": [
            "Confusion Matrix:\n",
            "1420\t 544\n",
            " 922\t2013\n"
          ]
        }
      ]
    },
    {
      "cell_type": "markdown",
      "source": [
        "### Accuracy, Precision, Recall"
      ],
      "metadata": {
        "id": "z9cwZ26tWPT1"
      }
    },
    {
      "cell_type": "code",
      "source": [
        "accuracy = (tp + tn) / (tp + tn + fp + fn)\n",
        "precision = tp / (tp + fp)\n",
        "recall = tp / (tp + fn)\n",
        "\n",
        "print(f\"Accuracy = {accuracy}\")\n",
        "print(f\"Precision = {precision}\")\n",
        "print(f\"Recall = {recall}\")"
      ],
      "metadata": {
        "colab": {
          "base_uri": "https://localhost:8080/"
        },
        "id": "QlqWlRcxWQEq",
        "outputId": "541065f9-3f5f-49fd-c93a-112a66b0b498"
      },
      "execution_count": 35,
      "outputs": [
        {
          "output_type": "stream",
          "name": "stdout",
          "text": [
            "Accuracy = 0.7007552561747296\n",
            "Precision = 0.7230142566191446\n",
            "Recall = 0.6063193851409052\n"
          ]
        }
      ]
    },
    {
      "cell_type": "markdown",
      "source": [
        "## Настройка модели. Подбор гиперпараметров"
      ],
      "metadata": {
        "id": "ydiImTF0W7zu"
      }
    },
    {
      "cell_type": "code",
      "source": [
        "from pyspark.ml.tuning import ParamGridBuilder, TrainValidationSplit\n",
        "paramGrid = ParamGridBuilder()\\\n",
        "    .addGrid(lr.regParam, [0.01, 0.1, 0.5])\\\n",
        "    .addGrid(lr.fitIntercept, [False, True])\\\n",
        "    .addGrid(lr.elasticNetParam, [0.0, 0.5, 1.0])\\\n",
        "    .build()\n",
        "\n",
        "trainValidationSplit = TrainValidationSplit()\\\n",
        "    .setEstimator(lr)\\\n",
        "    .setEvaluator(evaluator)\\\n",
        "    .setEstimatorParamMaps(paramGrid)\\\n",
        "    .setTrainRatio(0.7)\\\n",
        "\n",
        "model = trainValidationSplit.fit(dataF)"
      ],
      "metadata": {
        "id": "j_zyMWHQW-BD"
      },
      "execution_count": 36,
      "outputs": []
    },
    {
      "cell_type": "code",
      "source": [
        "# Извлечение параметров лучшей модели из обученной\n",
        "param_map = model.bestModel.extractParamMap()\n",
        "for i in param_map:\n",
        "    print(f\"{i.name:<16}\\t{param_map[i]}\")"
      ],
      "metadata": {
        "colab": {
          "base_uri": "https://localhost:8080/"
        },
        "id": "JlWIdRi91ve7",
        "outputId": "bd3e0fc4-60e5-4c1f-c6ca-4737c1b750e7"
      },
      "execution_count": 37,
      "outputs": [
        {
          "output_type": "stream",
          "name": "stdout",
          "text": [
            "aggregationDepth\t2\n",
            "elasticNetParam \t0.0\n",
            "family          \tbinomial\n",
            "featuresCol     \tselectedFeatures\n",
            "fitIntercept    \tTrue\n",
            "labelCol        \ttarget\n",
            "maxBlockSizeInMB\t0.0\n",
            "maxIter         \t1000\n",
            "predictionCol   \tprediction\n",
            "probabilityCol  \tprobability\n",
            "rawPredictionCol\trawPrediction\n",
            "regParam        \t0.01\n",
            "standardization \tTrue\n",
            "threshold       \t0.5\n",
            "tol             \t1e-06\n"
          ]
        }
      ]
    },
    {
      "cell_type": "code",
      "source": [
        "bestML = model.bestModel"
      ],
      "metadata": {
        "id": "tbU5m9WRS9Ey"
      },
      "execution_count": 38,
      "outputs": []
    },
    {
      "cell_type": "markdown",
      "source": [
        "# Сборка Pipeline"
      ],
      "metadata": {
        "id": "LCAnIU6oXHIh"
      }
    },
    {
      "cell_type": "code",
      "source": [
        "from pyspark.ml import Pipeline\n",
        "\n",
        "# Создание конвейера обработки данных с последовательностью этапов:\n",
        "pipeline = Pipeline().setStages(\n",
        "    [indexer, encoder, assembler, scaler, selector, bestML])\n",
        "\n",
        "# Разделение на обучающую и тестовую выборки\n",
        "[trainingData, testData] = data.randomSplit([0.7, 0.3])\n",
        "\n",
        "# Обучение конвейера на обучающих данных с помощью метода fit() сохранение обученной модели в pipelineModel\n",
        "pipelineModel = pipeline.fit(trainingData)"
      ],
      "metadata": {
        "id": "DL4yDhgfX7mi"
      },
      "execution_count": 39,
      "outputs": []
    },
    {
      "cell_type": "markdown",
      "source": [
        "## Сохранение модели"
      ],
      "metadata": {
        "id": "WWerZJFEZaXa"
      }
    },
    {
      "cell_type": "code",
      "source": [
        "pipelineModel.write().overwrite().save(\"/content/pipelineModel\")"
      ],
      "metadata": {
        "id": "XVIGmR7FZcxc"
      },
      "execution_count": 40,
      "outputs": []
    }
  ]
}